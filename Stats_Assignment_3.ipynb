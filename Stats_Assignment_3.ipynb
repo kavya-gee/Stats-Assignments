{
  "nbformat": 4,
  "nbformat_minor": 0,
  "metadata": {
    "colab": {
      "provenance": [],
      "authorship_tag": "ABX9TyOCyRGBef9reIIBWxtDtJQe",
      "include_colab_link": true
    },
    "kernelspec": {
      "name": "python3",
      "display_name": "Python 3"
    },
    "language_info": {
      "name": "python"
    }
  },
  "cells": [
    {
      "cell_type": "markdown",
      "metadata": {
        "id": "view-in-github",
        "colab_type": "text"
      },
      "source": [
        "<a href=\"https://colab.research.google.com/github/kavya-gee/Stats-Assignments/blob/main/Stats_Assignment_3.ipynb\" target=\"_parent\"><img src=\"https://colab.research.google.com/assets/colab-badge.svg\" alt=\"Open In Colab\"/></a>"
      ]
    },
    {
      "cell_type": "code",
      "execution_count": 7,
      "metadata": {
        "colab": {
          "base_uri": "https://localhost:8080/"
        },
        "id": "yl8p365uhzrF",
        "outputId": "fa66cc51-4b21-489e-b9dd-5855c04fb971"
      },
      "outputs": [
        {
          "output_type": "stream",
          "name": "stdout",
          "text": [
            "T-Test Results:\n",
            "T-Statistic: -39.492719391538095\n",
            "P-Value: 5.404910513441677e-62\n",
            "Reject the null hypothesis: There is a significant difference in petal lengths.\n"
          ]
        }
      ],
      "source": [
        "import seaborn as sns\n",
        "from scipy import stats\n",
        "\n",
        "# Loading the Iris dataset\n",
        "iris = sns.load_dataset('iris')\n",
        "\n",
        "# Filtering the dataset for Setosa and Versicolor\n",
        "setosa = iris[iris['species'] == 'setosa']\n",
        "versicolor = iris[iris['species'] == 'versicolor']\n",
        "\n",
        "# Performing an independent t-test\n",
        "t_stat, p_value = stats.ttest_ind(setosa['petal_length'], versicolor['petal_length'])\n",
        "\n",
        "# Printing results\n",
        "print(\"T-Test Results:\")\n",
        "print(f\"T-Statistic: {t_stat}\")\n",
        "print(f\"P-Value: {p_value}\")\n",
        "\n",
        "# Interpreting results\n",
        "alpha = 0.05\n",
        "if p_value < alpha:\n",
        "    print(\"Reject the null hypothesis: There is a significant difference in petal lengths.\")\n",
        "else:\n",
        "    print(\"Fail to reject the null hypothesis: No significant difference in petal lengths.\")\n"
      ]
    },
    {
      "cell_type": "code",
      "source": [
        "from statsmodels.stats.weightstats import ztest\n",
        "\n",
        "# Selecting data for one species (e.g., Setosa)\n",
        "setosa_sepal_length = setosa['sepal_length']\n",
        "\n",
        "# Performing a one-sample Z-Test\n",
        "z_stat, p_value = ztest(setosa_sepal_length, value=5.0)\n",
        "\n",
        "# Printing results\n",
        "print(\"\\nZ-Test Results:\")\n",
        "print(f\"Z-Statistic: {z_stat}\")\n",
        "print(f\"P-Value: {p_value}\")\n",
        "\n",
        "# Interpreingt results\n",
        "if p_value < alpha:\n",
        "    print(\"Reject the null hypothesis: The mean sepal length is significantly different from 5.0.\")\n",
        "else:\n",
        "    print(\"Fail to reject the null hypothesis: The mean sepal length is not significantly different from 5.0.\")\n"
      ],
      "metadata": {
        "colab": {
          "base_uri": "https://localhost:8080/"
        },
        "id": "GQSICu6PinbX",
        "outputId": "e32781ab-df6a-46c5-9247-fd826642cc75"
      },
      "execution_count": 8,
      "outputs": [
        {
          "output_type": "stream",
          "name": "stdout",
          "text": [
            "\n",
            "Z-Test Results:\n",
            "Z-Statistic: 0.12036212238318056\n",
            "P-Value: 0.9041962951772449\n",
            "Fail to reject the null hypothesis: The mean sepal length is not significantly different from 5.0.\n"
          ]
        }
      ]
    },
    {
      "cell_type": "code",
      "source": [
        "# Performing a one-way ANOVA test\n",
        "f_stat, p_value = stats.f_oneway(\n",
        "    iris[iris['species'] == 'setosa']['petal_width'],\n",
        "    iris[iris['species'] == 'versicolor']['petal_width'],\n",
        "    iris[iris['species'] == 'virginica']['petal_width']\n",
        ")\n",
        "\n",
        "# Printing results\n",
        "print(\"\\nANOVA Results:\")\n",
        "print(f\"F-Statistic: {f_stat}\")\n",
        "print(f\"P-Value: {p_value}\")\n",
        "\n",
        "# Interpreting results\n",
        "if p_value < alpha:\n",
        "    print(\"Reject the null hypothesis: There are significant differences in petal widths among species.\")\n",
        "else:\n",
        "    print(\"Fail to reject the null hypothesis: No significant differences in petal widths among species.\")\n"
      ],
      "metadata": {
        "colab": {
          "base_uri": "https://localhost:8080/"
        },
        "id": "cBfwkQaqirnU",
        "outputId": "ab8dcb1a-dc3b-444f-c601-a6f97cddd8ff"
      },
      "execution_count": 9,
      "outputs": [
        {
          "output_type": "stream",
          "name": "stdout",
          "text": [
            "\n",
            "ANOVA Results:\n",
            "F-Statistic: 960.007146801809\n",
            "P-Value: 4.169445839443116e-85\n",
            "Reject the null hypothesis: There are significant differences in petal widths among species.\n"
          ]
        }
      ]
    },
    {
      "cell_type": "code",
      "source": [
        "# Calculating Pearson correlation coefficient\n",
        "correlation, p_value = stats.pearsonr(iris['sepal_length'], iris['petal_length'])\n",
        "\n",
        "print(\"\\nCorrelation Results:\")\n",
        "print(f\"Correlation Coefficient: {correlation}\")\n",
        "print(f\"P-Value: {p_value}\")\n"
      ],
      "metadata": {
        "colab": {
          "base_uri": "https://localhost:8080/"
        },
        "id": "IqynoknViwz_",
        "outputId": "c55624ac-dd33-45a1-f7ca-f2917662df39"
      },
      "execution_count": 10,
      "outputs": [
        {
          "output_type": "stream",
          "name": "stdout",
          "text": [
            "\n",
            "Correlation Results:\n",
            "Correlation Coefficient: 0.8717537758865831\n",
            "P-Value: 1.0386674194498827e-47\n"
          ]
        }
      ]
    },
    {
      "cell_type": "code",
      "source": [
        "import statsmodels.api as sm\n",
        "\n",
        "# Performing linear regression (sepal length as independent variable, petal length as dependent variable)\n",
        "X = iris['sepal_length']\n",
        "y = iris['petal_length']\n",
        "X = sm.add_constant(X)\n",
        "\n",
        "model = sm.OLS(y, X).fit()\n",
        "print(\"\\nRegression Results:\")\n",
        "print(model.summary())\n"
      ],
      "metadata": {
        "colab": {
          "base_uri": "https://localhost:8080/"
        },
        "id": "45m6yfRHiz9-",
        "outputId": "34b19513-92c5-4eb8-b900-658d2a844110"
      },
      "execution_count": 11,
      "outputs": [
        {
          "output_type": "stream",
          "name": "stdout",
          "text": [
            "\n",
            "Regression Results:\n",
            "                            OLS Regression Results                            \n",
            "==============================================================================\n",
            "Dep. Variable:           petal_length   R-squared:                       0.760\n",
            "Model:                            OLS   Adj. R-squared:                  0.758\n",
            "Method:                 Least Squares   F-statistic:                     468.6\n",
            "Date:                Mon, 25 Nov 2024   Prob (F-statistic):           1.04e-47\n",
            "Time:                        14:23:25   Log-Likelihood:                -190.57\n",
            "No. Observations:                 150   AIC:                             385.1\n",
            "Df Residuals:                     148   BIC:                             391.2\n",
            "Df Model:                           1                                         \n",
            "Covariance Type:            nonrobust                                         \n",
            "================================================================================\n",
            "                   coef    std err          t      P>|t|      [0.025      0.975]\n",
            "--------------------------------------------------------------------------------\n",
            "const           -7.1014      0.507    -14.016      0.000      -8.103      -6.100\n",
            "sepal_length     1.8584      0.086     21.646      0.000       1.689       2.028\n",
            "==============================================================================\n",
            "Omnibus:                        0.253   Durbin-Watson:                   1.204\n",
            "Prob(Omnibus):                  0.881   Jarque-Bera (JB):                0.386\n",
            "Skew:                          -0.082   Prob(JB):                        0.824\n",
            "Kurtosis:                       2.812   Cond. No.                         43.4\n",
            "==============================================================================\n",
            "\n",
            "Notes:\n",
            "[1] Standard Errors assume that the covariance matrix of the errors is correctly specified.\n"
          ]
        }
      ]
    }
  ]
}